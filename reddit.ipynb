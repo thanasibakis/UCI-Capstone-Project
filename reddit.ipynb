{
 "cells": [
  {
   "cell_type": "code",
   "execution_count": 3,
   "metadata": {},
   "outputs": [
    {
     "name": "stdout",
     "output_type": "stream",
     "text": [
      "Collecting praw\n",
      "\u001b[?25l  Downloading https://files.pythonhosted.org/packages/25/c0/b9714b4fb164368843b41482a3cac11938021871adf99bf5aaa3980b0182/praw-6.5.1-py3-none-any.whl (134kB)\n",
      "\u001b[K     |████████████████████████████████| 143kB 3.3MB/s eta 0:00:01\n",
      "\u001b[?25hCollecting prawcore<2.0,>=1.0.1 (from praw)\n",
      "  Downloading https://files.pythonhosted.org/packages/76/b5/ce6282dea45cba6f08a30e25d18e0f3d33277e2c9fcbda75644b8dc0089b/prawcore-1.0.1-py2.py3-none-any.whl\n",
      "Collecting update-checker>=0.16 (from praw)\n",
      "  Downloading https://files.pythonhosted.org/packages/17/c9/ab11855af164d03be0ff4fddd4c46a5bd44799a9ecc1770e01a669c21168/update_checker-0.16-py2.py3-none-any.whl\n",
      "Collecting websocket-client>=0.54.0 (from praw)\n",
      "\u001b[?25l  Downloading https://files.pythonhosted.org/packages/4c/5f/f61b420143ed1c8dc69f9eaec5ff1ac36109d52c80de49d66e0c36c3dfdf/websocket_client-0.57.0-py2.py3-none-any.whl (200kB)\n",
      "\u001b[K     |████████████████████████████████| 204kB 12.1MB/s eta 0:00:01\n",
      "\u001b[?25hRequirement already satisfied: requests<3.0,>=2.6.0 in /Users/anjalikrishnan/opt/anaconda3/lib/python3.7/site-packages (from prawcore<2.0,>=1.0.1->praw) (2.22.0)\n",
      "Requirement already satisfied: six in /Users/anjalikrishnan/opt/anaconda3/lib/python3.7/site-packages (from websocket-client>=0.54.0->praw) (1.12.0)\n",
      "Requirement already satisfied: idna<2.9,>=2.5 in /Users/anjalikrishnan/opt/anaconda3/lib/python3.7/site-packages (from requests<3.0,>=2.6.0->prawcore<2.0,>=1.0.1->praw) (2.8)\n",
      "Requirement already satisfied: urllib3!=1.25.0,!=1.25.1,<1.26,>=1.21.1 in /Users/anjalikrishnan/opt/anaconda3/lib/python3.7/site-packages (from requests<3.0,>=2.6.0->prawcore<2.0,>=1.0.1->praw) (1.24.2)\n",
      "Requirement already satisfied: chardet<3.1.0,>=3.0.2 in /Users/anjalikrishnan/opt/anaconda3/lib/python3.7/site-packages (from requests<3.0,>=2.6.0->prawcore<2.0,>=1.0.1->praw) (3.0.4)\n",
      "Requirement already satisfied: certifi>=2017.4.17 in /Users/anjalikrishnan/opt/anaconda3/lib/python3.7/site-packages (from requests<3.0,>=2.6.0->prawcore<2.0,>=1.0.1->praw) (2019.9.11)\n",
      "Installing collected packages: prawcore, update-checker, websocket-client, praw\n",
      "Successfully installed praw-6.5.1 prawcore-1.0.1 update-checker-0.16 websocket-client-0.57.0\n",
      "Note: you may need to restart the kernel to use updated packages.\n"
     ]
    }
   ],
   "source": [
    "pip install praw"
   ]
  },
  {
   "cell_type": "code",
   "execution_count": 4,
   "metadata": {},
   "outputs": [],
   "source": [
    "import praw"
   ]
  },
  {
   "cell_type": "code",
   "execution_count": 5,
   "metadata": {},
   "outputs": [],
   "source": [
    "reddit = praw.Reddit(client_id='KsP-S_ssLBKgYw',\n",
    "                     client_secret='naX3joDSNbNFMS2HIDqfLy3rJUs', password='stats170a',\n",
    "                     user_agent='PrawTut', username='bubbly-department')"
   ]
  },
  {
   "cell_type": "code",
   "execution_count": 6,
   "metadata": {},
   "outputs": [],
   "source": [
    "subreddit = reddit.subreddit('python')"
   ]
  },
  {
   "cell_type": "code",
   "execution_count": 7,
   "metadata": {},
   "outputs": [],
   "source": [
    "hot_python = subreddit.hot()"
   ]
  },
  {
   "cell_type": "code",
   "execution_count": 8,
   "metadata": {},
   "outputs": [],
   "source": [
    "hot_python = subreddit.hot(limit=1)"
   ]
  },
  {
   "cell_type": "code",
   "execution_count": 11,
   "metadata": {},
   "outputs": [],
   "source": [
    "for submission in hot_python:\n",
    "    print(submission.title)"
   ]
  },
  {
   "cell_type": "code",
   "execution_count": 12,
   "metadata": {},
   "outputs": [],
   "source": [
    "hot_python = subreddit.hot(limit=1)"
   ]
  },
  {
   "cell_type": "code",
   "execution_count": 13,
   "metadata": {},
   "outputs": [
    {
     "name": "stdout",
     "output_type": "stream",
     "text": [
      "More Changes to r/Python\n"
     ]
    }
   ],
   "source": [
    "for submission in hot_python:\n",
    "    print(submission.title)"
   ]
  },
  {
   "cell_type": "code",
   "execution_count": 14,
   "metadata": {},
   "outputs": [
    {
     "name": "stdout",
     "output_type": "stream",
     "text": [
      "My attempt at coding a GUI Maker (maybe helpful for beginners)\n"
     ]
    }
   ],
   "source": [
    "hot_python = subreddit.hot(limit=3)\n",
    "for submission in hot_python:\n",
    "    if not submission.stickied:\n",
    "        print(submission.title)"
   ]
  },
  {
   "cell_type": "code",
   "execution_count": 15,
   "metadata": {},
   "outputs": [],
   "source": [
    "subreddit = reddit.subreddit('news')"
   ]
  },
  {
   "cell_type": "code",
   "execution_count": null,
   "metadata": {},
   "outputs": [],
   "source": [
    "new = subreddit.new()"
   ]
  },
  {
   "cell_type": "code",
   "execution_count": 16,
   "metadata": {},
   "outputs": [
    {
     "name": "stdout",
     "output_type": "stream",
     "text": [
      "Harvey Weinstein moved to Rikers Island jail after 10-day hospital stay\n",
      "Nate Woods executed even with all the attempts to stay the execution\n",
      "U.S. sanctions Nicaragua police force over 'violent repression'\n"
     ]
    }
   ],
   "source": [
    "new = subreddit.new(limit=3)\n",
    "for submission in new:\n",
    "    if not submission.stickied:\n",
    "        print(submission.title)"
   ]
  },
  {
   "cell_type": "code",
   "execution_count": 1,
   "metadata": {},
   "outputs": [],
   "source": [
    "import pandas as pd\n",
    "import requests\n",
    "import json\n",
    "import csv\n",
    "import time\n",
    "import datetime"
   ]
  },
  {
   "cell_type": "code",
   "execution_count": 2,
   "metadata": {},
   "outputs": [],
   "source": [
    "def getPushshiftData(query, after, before, sub):\n",
    "    url = 'https://api.pushshift.io/reddit/search/submission/?title='+str(query)+'&size=1000&after='+str(after)+'&before='+str(before)+'&subreddit='+str(sub)\n",
    "    print(url)\n",
    "    r = requests.get(url)\n",
    "    data = json.loads(r.text)\n",
    "    return data['data']"
   ]
  },
  {
   "cell_type": "code",
   "execution_count": 19,
   "metadata": {},
   "outputs": [],
   "source": [
    "def collectSubData(subm):\n",
    "    subData = list() #list to store data points\n",
    "    title = subm['title']\n",
    "    url = subm['url']\n",
    "    try:\n",
    "        flair = subm['link_flair_text']\n",
    "    except KeyError:\n",
    "        flair = \"NaN\"    \n",
    "    author = subm['author']\n",
    "    sub_id = subm['id']\n",
    "    score = subm['score']\n",
    "    created = datetime.datetime.fromtimestamp(subm['created_utc']) #1520561700.0\n",
    "    numComms = subm['num_comments']\n",
    "    permalink = subm['permalink']\n",
    "    \n",
    "    subData.append((sub_id,title,url,author,score,created,numComms,permalink,flair))\n",
    "    subStats[sub_id] = subData"
   ]
  },
  {
   "cell_type": "code",
   "execution_count": 20,
   "metadata": {},
   "outputs": [],
   "source": [
    "#Subreddit to query\n",
    "sub='news'\n",
    "#before and after dates\n",
    "before = \"1517443200\" #February 1st\n",
    "after = \"1514764800\"  #January 1st \n",
    "query = \"\"\n",
    "subCount = 0\n",
    "subStats = {}"
   ]
  },
  {
   "cell_type": "code",
   "execution_count": 21,
   "metadata": {},
   "outputs": [
    {
     "name": "stdout",
     "output_type": "stream",
     "text": [
      "https://api.pushshift.io/reddit/search/submission/?title=&size=1000&after=1514764800&before=1517443200&subreddit=news\n",
      "1000\n",
      "2018-01-01 16:44:50\n",
      "https://api.pushshift.io/reddit/search/submission/?title=&size=1000&after=1514853890&before=1517443200&subreddit=news\n",
      "1000\n",
      "2018-01-02 04:35:10\n",
      "https://api.pushshift.io/reddit/search/submission/?title=&size=1000&after=1514896510&before=1517443200&subreddit=news\n",
      "1000\n",
      "2018-01-02 21:26:57\n",
      "https://api.pushshift.io/reddit/search/submission/?title=&size=1000&after=1514957217&before=1517443200&subreddit=news\n",
      "1000\n",
      "2018-01-03 06:58:09\n",
      "https://api.pushshift.io/reddit/search/submission/?title=&size=1000&after=1514991489&before=1517443200&subreddit=news\n",
      "1000\n",
      "2018-01-03 22:10:38\n",
      "https://api.pushshift.io/reddit/search/submission/?title=&size=1000&after=1515046238&before=1517443200&subreddit=news\n",
      "1000\n",
      "2018-01-04 06:42:21\n",
      "https://api.pushshift.io/reddit/search/submission/?title=&size=1000&after=1515076941&before=1517443200&subreddit=news\n",
      "1000\n",
      "2018-01-04 22:12:25\n",
      "https://api.pushshift.io/reddit/search/submission/?title=&size=1000&after=1515132745&before=1517443200&subreddit=news\n",
      "1000\n",
      "2018-01-05 08:27:00\n",
      "https://api.pushshift.io/reddit/search/submission/?title=&size=1000&after=1515169620&before=1517443200&subreddit=news\n",
      "1000\n",
      "2018-01-06 00:57:53\n",
      "https://api.pushshift.io/reddit/search/submission/?title=&size=1000&after=1515229073&before=1517443200&subreddit=news\n",
      "1000\n",
      "2018-01-06 21:17:55\n",
      "https://api.pushshift.io/reddit/search/submission/?title=&size=1000&after=1515302275&before=1517443200&subreddit=news\n",
      "1000\n",
      "2018-01-07 21:16:40\n",
      "https://api.pushshift.io/reddit/search/submission/?title=&size=1000&after=1515388600&before=1517443200&subreddit=news\n",
      "1000\n",
      "2018-01-08 05:49:30\n",
      "https://api.pushshift.io/reddit/search/submission/?title=&size=1000&after=1515419370&before=1517443200&subreddit=news\n",
      "1000\n",
      "2018-01-08 21:13:19\n",
      "https://api.pushshift.io/reddit/search/submission/?title=&size=1000&after=1515474799&before=1517443200&subreddit=news\n",
      "1000\n",
      "2018-01-09 06:10:07\n",
      "https://api.pushshift.io/reddit/search/submission/?title=&size=1000&after=1515507007&before=1517443200&subreddit=news\n",
      "1000\n",
      "2018-01-09 20:45:48\n",
      "https://api.pushshift.io/reddit/search/submission/?title=&size=1000&after=1515559548&before=1517443200&subreddit=news\n",
      "1000\n",
      "2018-01-10 06:08:13\n",
      "https://api.pushshift.io/reddit/search/submission/?title=&size=1000&after=1515593293&before=1517443200&subreddit=news\n",
      "1000\n",
      "2018-01-10 20:46:20\n",
      "https://api.pushshift.io/reddit/search/submission/?title=&size=1000&after=1515645980&before=1517443200&subreddit=news\n",
      "1000\n",
      "2018-01-11 05:30:24\n",
      "https://api.pushshift.io/reddit/search/submission/?title=&size=1000&after=1515677424&before=1517443200&subreddit=news\n",
      "1000\n",
      "2018-01-11 18:26:00\n",
      "https://api.pushshift.io/reddit/search/submission/?title=&size=1000&after=1515723960&before=1517443200&subreddit=news\n",
      "1000\n",
      "2018-01-12 04:09:40\n",
      "https://api.pushshift.io/reddit/search/submission/?title=&size=1000&after=1515758980&before=1517443200&subreddit=news\n",
      "1000\n",
      "2018-01-12 21:04:10\n",
      "https://api.pushshift.io/reddit/search/submission/?title=&size=1000&after=1515819850&before=1517443200&subreddit=news\n",
      "1000\n",
      "2018-01-13 11:24:36\n",
      "https://api.pushshift.io/reddit/search/submission/?title=&size=1000&after=1515871476&before=1517443200&subreddit=news\n",
      "1000\n",
      "2018-01-14 10:19:12\n",
      "https://api.pushshift.io/reddit/search/submission/?title=&size=1000&after=1515953952&before=1517443200&subreddit=news\n",
      "1000\n",
      "2018-01-15 02:12:47\n",
      "https://api.pushshift.io/reddit/search/submission/?title=&size=1000&after=1516011167&before=1517443200&subreddit=news\n",
      "1000\n",
      "2018-01-15 14:15:38\n",
      "https://api.pushshift.io/reddit/search/submission/?title=&size=1000&after=1516054538&before=1517443200&subreddit=news\n",
      "1000\n",
      "2018-01-16 02:44:07\n",
      "https://api.pushshift.io/reddit/search/submission/?title=&size=1000&after=1516099447&before=1517443200&subreddit=news\n",
      "1000\n",
      "2018-01-16 15:27:30\n",
      "https://api.pushshift.io/reddit/search/submission/?title=&size=1000&after=1516145250&before=1517443200&subreddit=news\n",
      "1000\n",
      "2018-01-17 02:57:45\n",
      "https://api.pushshift.io/reddit/search/submission/?title=&size=1000&after=1516186665&before=1517443200&subreddit=news\n",
      "1000\n",
      "2018-01-17 13:10:21\n",
      "https://api.pushshift.io/reddit/search/submission/?title=&size=1000&after=1516223421&before=1517443200&subreddit=news\n",
      "1000\n",
      "2018-01-18 01:49:17\n",
      "https://api.pushshift.io/reddit/search/submission/?title=&size=1000&after=1516268957&before=1517443200&subreddit=news\n",
      "1000\n",
      "2018-01-18 12:13:15\n",
      "https://api.pushshift.io/reddit/search/submission/?title=&size=1000&after=1516306395&before=1517443200&subreddit=news\n",
      "1000\n",
      "2018-01-19 02:04:11\n",
      "https://api.pushshift.io/reddit/search/submission/?title=&size=1000&after=1516356251&before=1517443200&subreddit=news\n",
      "1000\n",
      "2018-01-19 13:32:54\n",
      "https://api.pushshift.io/reddit/search/submission/?title=&size=1000&after=1516397574&before=1517443200&subreddit=news\n",
      "1000\n",
      "2018-01-20 04:08:04\n",
      "https://api.pushshift.io/reddit/search/submission/?title=&size=1000&after=1516450084&before=1517443200&subreddit=news\n",
      "1000\n",
      "2018-01-21 06:08:33\n",
      "https://api.pushshift.io/reddit/search/submission/?title=&size=1000&after=1516543713&before=1517443200&subreddit=news\n",
      "1000\n",
      "2018-01-21 23:42:39\n",
      "https://api.pushshift.io/reddit/search/submission/?title=&size=1000&after=1516606959&before=1517443200&subreddit=news\n",
      "1000\n",
      "2018-01-22 09:48:15\n",
      "https://api.pushshift.io/reddit/search/submission/?title=&size=1000&after=1516643295&before=1517443200&subreddit=news\n",
      "1000\n",
      "2018-01-22 23:14:10\n",
      "https://api.pushshift.io/reddit/search/submission/?title=&size=1000&after=1516691650&before=1517443200&subreddit=news\n",
      "1000\n",
      "2018-01-23 07:24:46\n",
      "https://api.pushshift.io/reddit/search/submission/?title=&size=1000&after=1516721086&before=1517443200&subreddit=news\n",
      "1000\n",
      "2018-01-23 21:40:42\n",
      "https://api.pushshift.io/reddit/search/submission/?title=&size=1000&after=1516772442&before=1517443200&subreddit=news\n",
      "1000\n",
      "2018-01-24 06:50:52\n",
      "https://api.pushshift.io/reddit/search/submission/?title=&size=1000&after=1516805452&before=1517443200&subreddit=news\n",
      "1000\n",
      "2018-01-24 20:47:37\n",
      "https://api.pushshift.io/reddit/search/submission/?title=&size=1000&after=1516855657&before=1517443200&subreddit=news\n",
      "1000\n",
      "2018-01-25 06:19:18\n",
      "https://api.pushshift.io/reddit/search/submission/?title=&size=1000&after=1516889958&before=1517443200&subreddit=news\n",
      "1000\n",
      "2018-01-25 21:50:25\n",
      "https://api.pushshift.io/reddit/search/submission/?title=&size=1000&after=1516945825&before=1517443200&subreddit=news\n",
      "1000\n",
      "2018-01-26 10:55:18\n",
      "https://api.pushshift.io/reddit/search/submission/?title=&size=1000&after=1516992918&before=1517443200&subreddit=news\n",
      "1000\n",
      "2018-01-27 03:37:23\n",
      "https://api.pushshift.io/reddit/search/submission/?title=&size=1000&after=1517053043&before=1517443200&subreddit=news\n",
      "1000\n",
      "2018-01-27 23:16:08\n",
      "https://api.pushshift.io/reddit/search/submission/?title=&size=1000&after=1517123768&before=1517443200&subreddit=news\n",
      "1000\n",
      "2018-01-28 20:16:06\n",
      "https://api.pushshift.io/reddit/search/submission/?title=&size=1000&after=1517199366&before=1517443200&subreddit=news\n",
      "1000\n",
      "2018-01-29 04:52:05\n",
      "https://api.pushshift.io/reddit/search/submission/?title=&size=1000&after=1517230325&before=1517443200&subreddit=news\n",
      "1000\n",
      "2018-01-29 18:23:56\n",
      "https://api.pushshift.io/reddit/search/submission/?title=&size=1000&after=1517279036&before=1517443200&subreddit=news\n",
      "1000\n",
      "2018-01-30 02:46:12\n",
      "https://api.pushshift.io/reddit/search/submission/?title=&size=1000&after=1517309172&before=1517443200&subreddit=news\n",
      "1000\n",
      "2018-01-30 12:51:16\n",
      "https://api.pushshift.io/reddit/search/submission/?title=&size=1000&after=1517345476&before=1517443200&subreddit=news\n",
      "1000\n",
      "2018-01-31 01:45:30\n",
      "https://api.pushshift.io/reddit/search/submission/?title=&size=1000&after=1517391930&before=1517443200&subreddit=news\n",
      "1000\n",
      "2018-01-31 11:17:10\n",
      "https://api.pushshift.io/reddit/search/submission/?title=&size=1000&after=1517426230&before=1517443200&subreddit=news\n",
      "295\n",
      "2018-01-31 15:54:00\n",
      "https://api.pushshift.io/reddit/search/submission/?title=&size=1000&after=1517442840&before=1517443200&subreddit=news\n",
      "0\n"
     ]
    }
   ],
   "source": [
    "data = getPushshiftData(query, after, before, sub)\n",
    "# Will run until all posts have been gathered \n",
    "# from the 'after' date up until before date\n",
    "while len(data) > 0:\n",
    "    for submission in data:\n",
    "        collectSubData(submission)\n",
    "        subCount+=1\n",
    "    # Calls getPushshiftData() with the created date of the last submission\n",
    "    print(len(data))\n",
    "    print(str(datetime.datetime.fromtimestamp(data[-1]['created_utc'])))\n",
    "    after = data[-1]['created_utc']\n",
    "    data = getPushshiftData(query, after, before, sub)\n",
    "    \n",
    "print(len(data))"
   ]
  },
  {
   "cell_type": "code",
   "execution_count": 22,
   "metadata": {},
   "outputs": [
    {
     "name": "stdout",
     "output_type": "stream",
     "text": [
      "54295 submissions have added to list\n",
      "1st entry is:\n",
      "Ekattor Bangla TV News 1 January 2018 Bangladesh Latest News Today News ... created: 2017-12-31 16:06:20\n",
      "Last entry is:\n",
      "Facebook stock falls 4 percent as user time dips, revenue growth slows created: 2018-01-31 15:54:00\n"
     ]
    }
   ],
   "source": [
    "print(str(len(subStats)) + \" submissions have added to list\")\n",
    "print(\"1st entry is:\")\n",
    "print(list(subStats.values())[0][0][1] + \" created: \" + str(list(subStats.values())[0][0][5]))\n",
    "print(\"Last entry is:\")\n",
    "print(list(subStats.values())[-1][0][1] + \" created: \" + str(list(subStats.values())[-1][0][5]))"
   ]
  },
  {
   "cell_type": "code",
   "execution_count": 3,
   "metadata": {},
   "outputs": [],
   "source": [
    "import praw\n",
    "import pandas as pd\n",
    "import datetime as dt"
   ]
  },
  {
   "cell_type": "code",
   "execution_count": 4,
   "metadata": {},
   "outputs": [],
   "source": [
    "reddit = praw.Reddit(client_id='KsP-S_ssLBKgYw',\n",
    "                     client_secret='naX3joDSNbNFMS2HIDqfLy3rJUs', password='stats170a',\n",
    "                     user_agent='PrawTut', username='bubbly-department')"
   ]
  },
  {
   "cell_type": "code",
   "execution_count": 13,
   "metadata": {},
   "outputs": [],
   "source": [
    "subreddit = reddit.subreddit('news')"
   ]
  },
  {
   "cell_type": "code",
   "execution_count": 14,
   "metadata": {},
   "outputs": [],
   "source": [
    "top_subreddit = subreddit.top()"
   ]
  },
  {
   "cell_type": "code",
   "execution_count": 23,
   "metadata": {},
   "outputs": [],
   "source": [
    "top_subreddit = subreddit.hot(limit=500)"
   ]
  },
  {
   "cell_type": "code",
   "execution_count": 25,
   "metadata": {},
   "outputs": [
    {
     "name": "stdout",
     "output_type": "stream",
     "text": [
      "COVID-19 Megathread #4 fbvz7n\n"
     ]
    }
   ],
   "source": [
    "for submission in subreddit.hot(limit=1):\n",
    "    print(submission.title, submission.id)"
   ]
  },
  {
   "cell_type": "code",
   "execution_count": 26,
   "metadata": {},
   "outputs": [],
   "source": [
    "topics_dict = { \"id\": [], \"title\":[], \"url\":[], \"comms_num\": [],\"created\": [],\"body\":[]}"
   ]
  },
  {
   "cell_type": "code",
   "execution_count": 27,
   "metadata": {},
   "outputs": [],
   "source": [
    "for submission in top_subreddit:\n",
    "    topics_dict[\"title\"].append(submission.title)\n",
    "    topics_dict[\"id\"].append(submission.id)\n",
    "    topics_dict[\"url\"].append(submission.url)\n",
    "    topics_dict[\"comms_num\"].append(submission.num_comments)\n",
    "    topics_dict[\"created\"].append(submission.created)\n",
    "    topics_dict[\"body\"].append(submission.selftext)"
   ]
  },
  {
   "cell_type": "code",
   "execution_count": 28,
   "metadata": {},
   "outputs": [],
   "source": [
    "topics_data = pd.DataFrame(topics_dict)"
   ]
  },
  {
   "cell_type": "code",
   "execution_count": 18,
   "metadata": {},
   "outputs": [
    {
     "data": {
      "text/html": [
       "<div>\n",
       "<style scoped>\n",
       "    .dataframe tbody tr th:only-of-type {\n",
       "        vertical-align: middle;\n",
       "    }\n",
       "\n",
       "    .dataframe tbody tr th {\n",
       "        vertical-align: top;\n",
       "    }\n",
       "\n",
       "    .dataframe thead th {\n",
       "        text-align: right;\n",
       "    }\n",
       "</style>\n",
       "<table border=\"1\" class=\"dataframe\">\n",
       "  <thead>\n",
       "    <tr style=\"text-align: right;\">\n",
       "      <th></th>\n",
       "      <th>id</th>\n",
       "      <th>title</th>\n",
       "      <th>url</th>\n",
       "      <th>comms_num</th>\n",
       "      <th>created</th>\n",
       "      <th>body</th>\n",
       "    </tr>\n",
       "  </thead>\n",
       "  <tbody>\n",
       "    <tr>\n",
       "      <td>0</td>\n",
       "      <td>dfn3yi</td>\n",
       "      <td>Blizzard Employees Staged a Walkout After the ...</td>\n",
       "      <td>https://www.thedailybeast.com/blizzard-employe...</td>\n",
       "      <td>9695</td>\n",
       "      <td>1.570683e+09</td>\n",
       "      <td></td>\n",
       "    </tr>\n",
       "    <tr>\n",
       "      <td>1</td>\n",
       "      <td>eubjfc</td>\n",
       "      <td>Kobe Bryant killed in helicopter crash in Cali...</td>\n",
       "      <td>https://www.fox5dc.com/news/kobe-bryant-killed...</td>\n",
       "      <td>21165</td>\n",
       "      <td>1.580096e+09</td>\n",
       "      <td></td>\n",
       "    </tr>\n",
       "    <tr>\n",
       "      <td>2</td>\n",
       "      <td>84aebi</td>\n",
       "      <td>Scientist Stephen Hawking has died aged 76</td>\n",
       "      <td>http://news.sky.com/story/scientist-stephen-ha...</td>\n",
       "      <td>6941</td>\n",
       "      <td>1.521028e+09</td>\n",
       "      <td></td>\n",
       "    </tr>\n",
       "    <tr>\n",
       "      <td>3</td>\n",
       "      <td>dp5lr1</td>\n",
       "      <td>Jeffrey Epstein's autopsy more consistent with...</td>\n",
       "      <td>https://www.foxnews.com/us/forensic-pathologis...</td>\n",
       "      <td>10155</td>\n",
       "      <td>1.572465e+09</td>\n",
       "      <td></td>\n",
       "    </tr>\n",
       "    <tr>\n",
       "      <td>4</td>\n",
       "      <td>7ej943</td>\n",
       "      <td>F.C.C. Announces Plan to Repeal Net Neutrality</td>\n",
       "      <td>https://www.nytimes.com/2017/11/21/technology/...</td>\n",
       "      <td>10890</td>\n",
       "      <td>1.511312e+09</td>\n",
       "      <td></td>\n",
       "    </tr>\n",
       "    <tr>\n",
       "      <td>...</td>\n",
       "      <td>...</td>\n",
       "      <td>...</td>\n",
       "      <td>...</td>\n",
       "      <td>...</td>\n",
       "      <td>...</td>\n",
       "      <td>...</td>\n",
       "    </tr>\n",
       "    <tr>\n",
       "      <td>95</td>\n",
       "      <td>5m2ivk</td>\n",
       "      <td>Chicago Police: 4 in custody after young man t...</td>\n",
       "      <td>http://www.fox32chicago.com/news/crime/2271167...</td>\n",
       "      <td>33430</td>\n",
       "      <td>1.483600e+09</td>\n",
       "      <td></td>\n",
       "    </tr>\n",
       "    <tr>\n",
       "      <td>96</td>\n",
       "      <td>6h9ao1</td>\n",
       "      <td>Five officials will face manslaughter charges ...</td>\n",
       "      <td>http://www.mlive.com/news/flint/index.ssf/2017...</td>\n",
       "      <td>2067</td>\n",
       "      <td>1.497493e+09</td>\n",
       "      <td></td>\n",
       "    </tr>\n",
       "    <tr>\n",
       "      <td>97</td>\n",
       "      <td>bf0hpb</td>\n",
       "      <td>Judge says US government can be sued for Flint...</td>\n",
       "      <td>https://abcnews.go.com/US/wireStory/judge-us-g...</td>\n",
       "      <td>1917</td>\n",
       "      <td>1.555717e+09</td>\n",
       "      <td></td>\n",
       "    </tr>\n",
       "    <tr>\n",
       "      <td>98</td>\n",
       "      <td>aej627</td>\n",
       "      <td>Former pharma CEO pleads guilty to bribing doc...</td>\n",
       "      <td>https://www.reuters.com/article/us-insys-opioi...</td>\n",
       "      <td>3359</td>\n",
       "      <td>1.547156e+09</td>\n",
       "      <td></td>\n",
       "    </tr>\n",
       "    <tr>\n",
       "      <td>99</td>\n",
       "      <td>9oq1r8</td>\n",
       "      <td>For the first time in 25 years New York City d...</td>\n",
       "      <td>https://www.cnn.com/2018/10/16/us/new-york-cit...</td>\n",
       "      <td>2890</td>\n",
       "      <td>1.539741e+09</td>\n",
       "      <td></td>\n",
       "    </tr>\n",
       "  </tbody>\n",
       "</table>\n",
       "<p>100 rows × 6 columns</p>\n",
       "</div>"
      ],
      "text/plain": [
       "        id                                              title  \\\n",
       "0   dfn3yi  Blizzard Employees Staged a Walkout After the ...   \n",
       "1   eubjfc  Kobe Bryant killed in helicopter crash in Cali...   \n",
       "2   84aebi         Scientist Stephen Hawking has died aged 76   \n",
       "3   dp5lr1  Jeffrey Epstein's autopsy more consistent with...   \n",
       "4   7ej943     F.C.C. Announces Plan to Repeal Net Neutrality   \n",
       "..     ...                                                ...   \n",
       "95  5m2ivk  Chicago Police: 4 in custody after young man t...   \n",
       "96  6h9ao1  Five officials will face manslaughter charges ...   \n",
       "97  bf0hpb  Judge says US government can be sued for Flint...   \n",
       "98  aej627  Former pharma CEO pleads guilty to bribing doc...   \n",
       "99  9oq1r8  For the first time in 25 years New York City d...   \n",
       "\n",
       "                                                  url  comms_num  \\\n",
       "0   https://www.thedailybeast.com/blizzard-employe...       9695   \n",
       "1   https://www.fox5dc.com/news/kobe-bryant-killed...      21165   \n",
       "2   http://news.sky.com/story/scientist-stephen-ha...       6941   \n",
       "3   https://www.foxnews.com/us/forensic-pathologis...      10155   \n",
       "4   https://www.nytimes.com/2017/11/21/technology/...      10890   \n",
       "..                                                ...        ...   \n",
       "95  http://www.fox32chicago.com/news/crime/2271167...      33430   \n",
       "96  http://www.mlive.com/news/flint/index.ssf/2017...       2067   \n",
       "97  https://abcnews.go.com/US/wireStory/judge-us-g...       1917   \n",
       "98  https://www.reuters.com/article/us-insys-opioi...       3359   \n",
       "99  https://www.cnn.com/2018/10/16/us/new-york-cit...       2890   \n",
       "\n",
       "         created body  \n",
       "0   1.570683e+09       \n",
       "1   1.580096e+09       \n",
       "2   1.521028e+09       \n",
       "3   1.572465e+09       \n",
       "4   1.511312e+09       \n",
       "..           ...  ...  \n",
       "95  1.483600e+09       \n",
       "96  1.497493e+09       \n",
       "97  1.555717e+09       \n",
       "98  1.547156e+09       \n",
       "99  1.539741e+09       \n",
       "\n",
       "[100 rows x 6 columns]"
      ]
     },
     "execution_count": 18,
     "metadata": {},
     "output_type": "execute_result"
    }
   ],
   "source": [
    "topics_data"
   ]
  },
  {
   "cell_type": "code",
   "execution_count": 19,
   "metadata": {},
   "outputs": [],
   "source": [
    "def get_date(created):\n",
    "    return dt.datetime.fromtimestamp(created)"
   ]
  },
  {
   "cell_type": "code",
   "execution_count": 29,
   "metadata": {},
   "outputs": [],
   "source": [
    "_timestamp = topics_data[\"created\"].apply(get_date)"
   ]
  },
  {
   "cell_type": "code",
   "execution_count": 30,
   "metadata": {},
   "outputs": [],
   "source": [
    "topics_data = topics_data.assign(timestamp = _timestamp)"
   ]
  },
  {
   "cell_type": "code",
   "execution_count": 31,
   "metadata": {},
   "outputs": [
    {
     "data": {
      "text/html": [
       "<div>\n",
       "<style scoped>\n",
       "    .dataframe tbody tr th:only-of-type {\n",
       "        vertical-align: middle;\n",
       "    }\n",
       "\n",
       "    .dataframe tbody tr th {\n",
       "        vertical-align: top;\n",
       "    }\n",
       "\n",
       "    .dataframe thead th {\n",
       "        text-align: right;\n",
       "    }\n",
       "</style>\n",
       "<table border=\"1\" class=\"dataframe\">\n",
       "  <thead>\n",
       "    <tr style=\"text-align: right;\">\n",
       "      <th></th>\n",
       "      <th>id</th>\n",
       "      <th>title</th>\n",
       "      <th>url</th>\n",
       "      <th>comms_num</th>\n",
       "      <th>created</th>\n",
       "      <th>body</th>\n",
       "      <th>timestamp</th>\n",
       "    </tr>\n",
       "  </thead>\n",
       "  <tbody>\n",
       "    <tr>\n",
       "      <td>0</td>\n",
       "      <td>fbvz7n</td>\n",
       "      <td>COVID-19 Megathread #4</td>\n",
       "      <td>https://www.reddit.com/r/news/comments/fbvz7n/...</td>\n",
       "      <td>9266</td>\n",
       "      <td>1.583107e+09</td>\n",
       "      <td>**This post is updated daily.**\\n\\n&amp;nbsp;\\n\\nC...</td>\n",
       "      <td>2020-03-01 16:00:23</td>\n",
       "    </tr>\n",
       "    <tr>\n",
       "      <td>1</td>\n",
       "      <td>ffhd19</td>\n",
       "      <td>Virginia Decriminalizes Marijuana and Seals Pa...</td>\n",
       "      <td>https://www.virginiamercury.com/2020/03/08/vir...</td>\n",
       "      <td>1370</td>\n",
       "      <td>1.583724e+09</td>\n",
       "      <td></td>\n",
       "      <td>2020-03-08 20:13:11</td>\n",
       "    </tr>\n",
       "    <tr>\n",
       "      <td>2</td>\n",
       "      <td>ffg4ma</td>\n",
       "      <td>Islamists hurl stones and shoes at Women's Day...</td>\n",
       "      <td>https://www.reuters.com/article/us-womens-day-...</td>\n",
       "      <td>204</td>\n",
       "      <td>1.583719e+09</td>\n",
       "      <td></td>\n",
       "      <td>2020-03-08 18:53:10</td>\n",
       "    </tr>\n",
       "    <tr>\n",
       "      <td>3</td>\n",
       "      <td>fffckw</td>\n",
       "      <td>Hidden figures: College students may be paying...</td>\n",
       "      <td>https://www.nbcnews.com/news/education/hidden-...</td>\n",
       "      <td>433</td>\n",
       "      <td>1.583716e+09</td>\n",
       "      <td></td>\n",
       "      <td>2020-03-08 18:01:07</td>\n",
       "    </tr>\n",
       "    <tr>\n",
       "      <td>4</td>\n",
       "      <td>ffkc8y</td>\n",
       "      <td>Oil plummets 30% as OPEC deal failure sparks p...</td>\n",
       "      <td>https://www.cnbc.com/2020/03/08/oil-plummets-3...</td>\n",
       "      <td>310</td>\n",
       "      <td>1.583735e+09</td>\n",
       "      <td></td>\n",
       "      <td>2020-03-08 23:24:47</td>\n",
       "    </tr>\n",
       "    <tr>\n",
       "      <td>...</td>\n",
       "      <td>...</td>\n",
       "      <td>...</td>\n",
       "      <td>...</td>\n",
       "      <td>...</td>\n",
       "      <td>...</td>\n",
       "      <td>...</td>\n",
       "      <td>...</td>\n",
       "    </tr>\n",
       "    <tr>\n",
       "      <td>183</td>\n",
       "      <td>fe4lxt</td>\n",
       "      <td>JPMorgan says CEO Jamie Dimon is recuperating ...</td>\n",
       "      <td>https://www.cnbc.com/2020/03/05/jpmorgan-says-...</td>\n",
       "      <td>17</td>\n",
       "      <td>1.583481e+09</td>\n",
       "      <td></td>\n",
       "      <td>2020-03-05 23:55:13</td>\n",
       "    </tr>\n",
       "    <tr>\n",
       "      <td>184</td>\n",
       "      <td>fdj0hq</td>\n",
       "      <td>U.S. Defense linguist charged with transmittin...</td>\n",
       "      <td>https://www.reuters.com/article/us-usa-justice...</td>\n",
       "      <td>80</td>\n",
       "      <td>1.583382e+09</td>\n",
       "      <td></td>\n",
       "      <td>2020-03-04 20:18:22</td>\n",
       "    </tr>\n",
       "    <tr>\n",
       "      <td>185</td>\n",
       "      <td>fd6hky</td>\n",
       "      <td>Man who beat to death and beheaded rabbit gets...</td>\n",
       "      <td>https://apnews.com/3bfb04a37bc2228a2260de200c0...</td>\n",
       "      <td>2346</td>\n",
       "      <td>1.583320e+09</td>\n",
       "      <td></td>\n",
       "      <td>2020-03-04 02:58:35</td>\n",
       "    </tr>\n",
       "    <tr>\n",
       "      <td>186</td>\n",
       "      <td>fczyp9</td>\n",
       "      <td>World's biggest meat company linked to 'brutal...</td>\n",
       "      <td>https://www.theguardian.com/environment/2020/m...</td>\n",
       "      <td>1578</td>\n",
       "      <td>1.583293e+09</td>\n",
       "      <td></td>\n",
       "      <td>2020-03-03 19:29:57</td>\n",
       "    </tr>\n",
       "    <tr>\n",
       "      <td>187</td>\n",
       "      <td>fct48n</td>\n",
       "      <td>Girl receives R2-D2 'bionic arm' and phone cal...</td>\n",
       "      <td>https://www.itv.com/news/2020-03-03/girl-11-re...</td>\n",
       "      <td>804</td>\n",
       "      <td>1.583263e+09</td>\n",
       "      <td></td>\n",
       "      <td>2020-03-03 11:17:06</td>\n",
       "    </tr>\n",
       "  </tbody>\n",
       "</table>\n",
       "<p>188 rows × 7 columns</p>\n",
       "</div>"
      ],
      "text/plain": [
       "         id                                              title  \\\n",
       "0    fbvz7n                             COVID-19 Megathread #4   \n",
       "1    ffhd19  Virginia Decriminalizes Marijuana and Seals Pa...   \n",
       "2    ffg4ma  Islamists hurl stones and shoes at Women's Day...   \n",
       "3    fffckw  Hidden figures: College students may be paying...   \n",
       "4    ffkc8y  Oil plummets 30% as OPEC deal failure sparks p...   \n",
       "..      ...                                                ...   \n",
       "183  fe4lxt  JPMorgan says CEO Jamie Dimon is recuperating ...   \n",
       "184  fdj0hq  U.S. Defense linguist charged with transmittin...   \n",
       "185  fd6hky  Man who beat to death and beheaded rabbit gets...   \n",
       "186  fczyp9  World's biggest meat company linked to 'brutal...   \n",
       "187  fct48n  Girl receives R2-D2 'bionic arm' and phone cal...   \n",
       "\n",
       "                                                   url  comms_num  \\\n",
       "0    https://www.reddit.com/r/news/comments/fbvz7n/...       9266   \n",
       "1    https://www.virginiamercury.com/2020/03/08/vir...       1370   \n",
       "2    https://www.reuters.com/article/us-womens-day-...        204   \n",
       "3    https://www.nbcnews.com/news/education/hidden-...        433   \n",
       "4    https://www.cnbc.com/2020/03/08/oil-plummets-3...        310   \n",
       "..                                                 ...        ...   \n",
       "183  https://www.cnbc.com/2020/03/05/jpmorgan-says-...         17   \n",
       "184  https://www.reuters.com/article/us-usa-justice...         80   \n",
       "185  https://apnews.com/3bfb04a37bc2228a2260de200c0...       2346   \n",
       "186  https://www.theguardian.com/environment/2020/m...       1578   \n",
       "187  https://www.itv.com/news/2020-03-03/girl-11-re...        804   \n",
       "\n",
       "          created                                               body  \\\n",
       "0    1.583107e+09  **This post is updated daily.**\\n\\n&nbsp;\\n\\nC...   \n",
       "1    1.583724e+09                                                      \n",
       "2    1.583719e+09                                                      \n",
       "3    1.583716e+09                                                      \n",
       "4    1.583735e+09                                                      \n",
       "..            ...                                                ...   \n",
       "183  1.583481e+09                                                      \n",
       "184  1.583382e+09                                                      \n",
       "185  1.583320e+09                                                      \n",
       "186  1.583293e+09                                                      \n",
       "187  1.583263e+09                                                      \n",
       "\n",
       "              timestamp  \n",
       "0   2020-03-01 16:00:23  \n",
       "1   2020-03-08 20:13:11  \n",
       "2   2020-03-08 18:53:10  \n",
       "3   2020-03-08 18:01:07  \n",
       "4   2020-03-08 23:24:47  \n",
       "..                  ...  \n",
       "183 2020-03-05 23:55:13  \n",
       "184 2020-03-04 20:18:22  \n",
       "185 2020-03-04 02:58:35  \n",
       "186 2020-03-03 19:29:57  \n",
       "187 2020-03-03 11:17:06  \n",
       "\n",
       "[188 rows x 7 columns]"
      ]
     },
     "execution_count": 31,
     "metadata": {},
     "output_type": "execute_result"
    }
   ],
   "source": [
    "topics_data"
   ]
  },
  {
   "cell_type": "code",
   "execution_count": null,
   "metadata": {},
   "outputs": [],
   "source": []
  }
 ],
 "metadata": {
  "kernelspec": {
   "display_name": "Python 3",
   "language": "python",
   "name": "python3"
  },
  "language_info": {
   "codemirror_mode": {
    "name": "ipython",
    "version": 3
   },
   "file_extension": ".py",
   "mimetype": "text/x-python",
   "name": "python",
   "nbconvert_exporter": "python",
   "pygments_lexer": "ipython3",
   "version": "3.7.4"
  }
 },
 "nbformat": 4,
 "nbformat_minor": 2
}
